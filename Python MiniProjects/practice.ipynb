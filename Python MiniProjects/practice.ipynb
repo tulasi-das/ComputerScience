{
 "cells": [
  {
   "cell_type": "code",
   "execution_count": 7,
   "id": "8059b45c",
   "metadata": {},
   "outputs": [
    {
     "name": "stdout",
     "output_type": "stream",
     "text": [
      "tulasi\n",
      "5\n",
      "Iam tulasi my age is 5\n"
     ]
    }
   ],
   "source": [
    "class Human:\n",
    "    def __init__(self,n,a):\n",
    "        self.name = n\n",
    "        self.age = a\n",
    "    def show(self):\n",
    "        print(f'Iam {self.name} my age is {self.age}')\n",
    "t = Human(\"tulasi\",5)\n",
    "print(t.name)\n",
    "print(t.age)\n",
    "t.show()\n",
    "    "
   ]
  },
  {
   "cell_type": "code",
   "execution_count": null,
   "id": "ca6da5b6",
   "metadata": {},
   "outputs": [],
   "source": []
  },
  {
   "cell_type": "code",
   "execution_count": 6,
   "id": "e95df479",
   "metadata": {},
   "outputs": [],
   "source": [
    "# Inheritence: Parent child relationship(acquiring properties of parent class by a child class)"
   ]
  },
  {
   "cell_type": "code",
   "execution_count": 15,
   "id": "99c9b8a9",
   "metadata": {},
   "outputs": [
    {
     "name": "stdout",
     "output_type": "stream",
     "text": [
      "dikku 3\n",
      "I can access all the classes\n",
      "dikku 3\n"
     ]
    }
   ],
   "source": [
    "class Animal:\n",
    "    def __init__(self,n,a):\n",
    "        self.age = a\n",
    "        self.name = n\n",
    "class Dog(Animal):\n",
    "    def bark(self):\n",
    "        print(self.name, self.age)\n",
    "class Car(Dog):\n",
    "    def meow(self):\n",
    "        print(\"I can access all the classes\")\n",
    "a = Car(\"dikku\",3)\n",
    "a.bark()\n",
    "a.meow()\n",
    "a.bark()"
   ]
  },
  {
   "cell_type": "code",
   "execution_count": 16,
   "id": "7207e696",
   "metadata": {},
   "outputs": [],
   "source": [
    "# The above python code is an example for multilevel inheritence"
   ]
  },
  {
   "cell_type": "code",
   "execution_count": 17,
   "id": "44fc8599",
   "metadata": {},
   "outputs": [],
   "source": [
    "# Herarchical Inheritence"
   ]
  },
  {
   "cell_type": "code",
   "execution_count": 20,
   "id": "4122f0e8",
   "metadata": {},
   "outputs": [
    {
     "name": "stdout",
     "output_type": "stream",
     "text": [
      "I am dog, my name is dikku and my age is 21 \n",
      "I am cat, my name is andy and my age is 3\n"
     ]
    }
   ],
   "source": [
    "class Animal:\n",
    "    def __init__(self,name,age):\n",
    "        self.name = name\n",
    "        self.age = age\n",
    "        \n",
    "class Dog(Animal):\n",
    "    def bark(self):\n",
    "        print(f\"I am dog, my name is {self.name} and my age is {self.age} \")\n",
    "class Cat(Animal):\n",
    "    def meow(self):\n",
    "        print(f'I am cat, my name is {self.name} and my age is {self.age}')\n",
    "doggy = Dog('dikku',21)\n",
    "doggy.bark()\n",
    "catty = Cat('andy',3)\n",
    "catty.meow()\n",
    "    "
   ]
  },
  {
   "cell_type": "code",
   "execution_count": null,
   "id": "d0b750ba",
   "metadata": {},
   "outputs": [],
   "source": [
    "# Pyhton supports multiple inheritence directly"
   ]
  },
  {
   "cell_type": "code",
   "execution_count": 23,
   "id": "f242ac8a",
   "metadata": {},
   "outputs": [
    {
     "name": "stdout",
     "output_type": "stream",
     "text": [
      "this method is in child\n",
      "this method is in father\n",
      "this method is in mother\n"
     ]
    }
   ],
   "source": [
    "class Father:\n",
    "    def fDisplay(self):\n",
    "        print('this method is in father')\n",
    "class Mother:\n",
    "    def mDisplay(self):\n",
    "        print(\"this method is in mother\")\n",
    "class Child(Father, Mother):\n",
    "    def cDisplay(self):\n",
    "        print(\"this method is in child\")\n",
    "tulasi = Child()\n",
    "tulasi.cDisplay()\n",
    "tulasi.fDisplay()\n",
    "tulasi.mDisplay()\n"
   ]
  },
  {
   "cell_type": "code",
   "execution_count": null,
   "id": "580ad904",
   "metadata": {},
   "outputs": [],
   "source": [
    "#Polymorphism:Implementing same thing in different ways "
   ]
  },
  {
   "cell_type": "code",
   "execution_count": null,
   "id": "f194d3c2",
   "metadata": {},
   "outputs": [],
   "source": [
    "# Method overloading(compile time polymorphism) directly not supported in python\n",
    "# Compile time polymorphism: Method overloading[add(), add(a,b), add(a,b,c) using same add differently, that is the arguments that accepted by the method are different]\n",
    "# Runtime polymorphism: Method overriding"
   ]
  },
  {
   "cell_type": "code",
   "execution_count": 1,
   "id": "451ecfc9",
   "metadata": {},
   "outputs": [
    {
     "name": "stdout",
     "output_type": "stream",
     "text": [
      "400\n"
     ]
    }
   ],
   "source": [
    "# Compile time polymorphism: We can achieve compile time polymorphism by using default  parameters\n",
    "class Pol:\n",
    "    def calc(self,a,b,c=100):    # here giving default parameter c =100\n",
    "        print(a+b+c)\n",
    "p = Pol()\n",
    "p.calc(100,200)                   # Here we just passed two arguments, in the above method if you see we have given c value by default\n",
    "    "
   ]
  },
  {
   "cell_type": "code",
   "execution_count": 2,
   "id": "96515ee0",
   "metadata": {},
   "outputs": [
    {
     "name": "stdout",
     "output_type": "stream",
     "text": [
      "This is the method in the subclass\n"
     ]
    }
   ],
   "source": [
    "# Runtime polymorphism: In polymorphism we can acheive run time polymorphism by method overriding\n",
    "# The methods having same name in the base class and in subclass, the method in the subclass overides the method in the subclass\n",
    "# In method overiding we should have same parameters, same method name\n",
    "class Dog:\n",
    "    def talk(self):\n",
    "        print(\"This is the method in the super class\")\n",
    "class Cat(Dog):\n",
    "    def talk(self):                                      # Here talk method in the subclass overides the method in the super class\n",
    "        print(\"This is the method in the subclass\")\n",
    "c = Cat()\n",
    "c.talk()      # The method talk in the subclass overides the method in the superclass\n"
   ]
  },
  {
   "cell_type": "code",
   "execution_count": 3,
   "id": "07103c3d",
   "metadata": {},
   "outputs": [],
   "source": [
    "# Abstraction: Hiding the implementation\n",
    "# A class having atleast one abstract method then that class is called as abstract class\n",
    "# An abstract method can be declared by using the decorator @abstract method\n",
    "# Abstract methods contain only declaration not definition\n",
    "# We cannnot create object to the abstract class\n",
    "# Concrete class:  A class which does not conatian any abstract method, we can create object to the concrete class\n",
    "# We cannot create object to the abstract class\n",
    "# In order to create the object to the abstract class we need to inherit it into another class(subclass) and we need to overide\n",
    "# the abstract methods of abstract class, now we can create the object to the subclass and access all the properties\n",
    "# from main class and subclass\n",
    "# We need to overide all the abstract methods that are defined in the base class\n",
    "# We can also define normal methods in the abstract class\n"
   ]
  },
  {
   "cell_type": "code",
   "execution_count": 14,
   "id": "b636b33d",
   "metadata": {},
   "outputs": [
    {
     "name": "stdout",
     "output_type": "stream",
     "text": [
      "The housig interests are very high in india\n",
      "The vehicle interests are also very high in india\n",
      "this is a normal method\n"
     ]
    }
   ],
   "source": [
    "# We need to import ABC an abstract class present in the abc abstract module\n",
    "from abc import ABC,abstractmethod\n",
    "class AbstractDemo(ABC):\n",
    "    @abstractmethod\n",
    "    def HousingInterest():\n",
    "        None\n",
    "    @abstractmethod\n",
    "    def VehicleInterest():\n",
    "        None\n",
    "    def NormalMethod(self):\n",
    "        print(\"this is a normal method\")\n",
    "        \n",
    "class SBI(AbstractDemo):                 # SBI is the concrete class\n",
    "    def HousingInterest(self):                # Here we are overiding the base class method HousingRent\n",
    "        print(\"The housig interests are very high in india\")\n",
    "    def VehicleInterest(self):                # Here we are overiding the base class method VehiclieRent\n",
    "        print(\"The vehicle interests are also very high in india\")\n",
    "objsbi = SBI()\n",
    "objsbi.HousingInterest()\n",
    "objsbi.VehicleInterest()\n",
    "objsbi.NormalMethod()"
   ]
  },
  {
   "cell_type": "code",
   "execution_count": null,
   "id": "0284f374",
   "metadata": {},
   "outputs": [],
   "source": [
    "# Encapsulation: Wrappping up of data and methods\n",
    "# Data Hinding: We can give the security to the data by using access specifiers\n",
    "# Access specifiers : public, private\n",
    "# public : variables and methods which are declared as public can be accessed from within in the class and also from outside the class\n",
    "# private : variables and methods which are declared as private can be accessed only within the class, we cannot access these methods and variables from outside the class\n",
    "# When you give two underscores as prefix for variables or methods then they will become private otherwise, they stay as public\n",
    "# By using these private variables and private methods we can restrict the usage of these variables and methods, that is we can give security to the variables and methods \n",
    "# These methods and funtions can be accesible within the class"
   ]
  },
  {
   "cell_type": "code",
   "execution_count": 4,
   "id": "b49e7861",
   "metadata": {},
   "outputs": [
    {
     "name": "stdout",
     "output_type": "stream",
     "text": [
      "10\n"
     ]
    }
   ],
   "source": [
    "class Animal:\n",
    "    __a = 10\n",
    "    def func(self):\n",
    "        print(self.__a)      # here we can access __a, because we are trying to access within the function\n",
    "obj = Animal()\n",
    "obj.func()\n",
    "# print(obj.__a)   # it gives error becasue we are trying to accesst the variable __a, this __a variables can be accessed only within the class Animal "
   ]
  },
  {
   "cell_type": "code",
   "execution_count": null,
   "id": "19ba6092",
   "metadata": {},
   "outputs": [],
   "source": [
    "# Modules in Python\n",
    "# Module contains classes and funtion, the individual classes in the module can also contain functions\n",
    "# We have lot of buit in modules in python\n",
    "# We can also create modules, these modules are called user defined module because we create them"
   ]
  },
  {
   "cell_type": "code",
   "execution_count": 6,
   "id": "b890be01",
   "metadata": {},
   "outputs": [
    {
     "data": {
      "text/plain": [
       "'C:\\\\Users\\\\Dell'"
      ]
     },
     "execution_count": 6,
     "metadata": {},
     "output_type": "execute_result"
    }
   ],
   "source": [
    "# Built in Modules\n",
    "# OS Module\n",
    "# modulename.functionname()\n",
    "import os\n",
    "os.getcwd()   #Gives the current working directory"
   ]
  },
  {
   "cell_type": "code",
   "execution_count": 8,
   "id": "ac8f2d84",
   "metadata": {},
   "outputs": [],
   "source": [
    "os.mkdir(\"tulasidas\")  # Creates new directory called tulasidas, in the current directory\n"
   ]
  },
  {
   "cell_type": "code",
   "execution_count": 9,
   "id": "91e34a50",
   "metadata": {},
   "outputs": [
    {
     "data": {
      "text/plain": [
       "['.android',\n",
       " '.atom',\n",
       " '.cache',\n",
       " '.dotnet',\n",
       " '.eclipse',\n",
       " '.emulator_console_auth_token',\n",
       " '.gitconfig',\n",
       " '.gradle',\n",
       " '.idlerc',\n",
       " '.ipynb_checkpoints',\n",
       " '.ipython',\n",
       " '.jupyter',\n",
       " '.lesshst',\n",
       " '.nuget',\n",
       " '.p2',\n",
       " '.popsql.json',\n",
       " '.vscode',\n",
       " '3D Objects',\n",
       " 'anaconda3',\n",
       " 'AndroidStudioProjects',\n",
       " 'AppData',\n",
       " 'Application Data',\n",
       " 'classes.ipynb',\n",
       " 'Contacts',\n",
       " 'Cookies',\n",
       " 'Desktop',\n",
       " 'Documents',\n",
       " 'Downloads',\n",
       " 'eclipse',\n",
       " 'Favorites',\n",
       " 'IBA_IOAPDATA',\n",
       " 'IntelGraphicsProfiles',\n",
       " 'Links',\n",
       " 'Local Settings',\n",
       " 'Music',\n",
       " 'My Documents',\n",
       " 'NetHood',\n",
       " 'NTUSER.DAT',\n",
       " 'ntuser.dat.LOG1',\n",
       " 'ntuser.dat.LOG2',\n",
       " 'NTUSER.DAT{53b39e88-18c4-11ea-a811-000d3aa4692b}.TM.blf',\n",
       " 'NTUSER.DAT{53b39e88-18c4-11ea-a811-000d3aa4692b}.TMContainer00000000000000000001.regtrans-ms',\n",
       " 'NTUSER.DAT{53b39e88-18c4-11ea-a811-000d3aa4692b}.TMContainer00000000000000000002.regtrans-ms',\n",
       " 'ntuser.ini',\n",
       " 'OneDrive',\n",
       " 'Pictures',\n",
       " 'practice.ipynb',\n",
       " 'PrintHood',\n",
       " 'project',\n",
       " 'PycharmProjects',\n",
       " 'Recent',\n",
       " 'Saved Games',\n",
       " 'Searches',\n",
       " 'SendTo',\n",
       " 'source',\n",
       " 'Start Menu',\n",
       " 'Templates',\n",
       " 'Tracing',\n",
       " 'tulasidas',\n",
       " 'Untitled.ipynb',\n",
       " 'Untitled1.ipynb',\n",
       " 'Videos',\n",
       " 'WebstormProjects']"
      ]
     },
     "execution_count": 9,
     "metadata": {},
     "output_type": "execute_result"
    }
   ],
   "source": [
    "os.listdir()   # Gives all the direcories in the current directory"
   ]
  },
  {
   "cell_type": "code",
   "execution_count": 10,
   "id": "22e10bec",
   "metadata": {},
   "outputs": [
    {
     "data": {
      "text/plain": [
       "['DirEntry',\n",
       " 'F_OK',\n",
       " 'MutableMapping',\n",
       " 'O_APPEND',\n",
       " 'O_BINARY',\n",
       " 'O_CREAT',\n",
       " 'O_EXCL',\n",
       " 'O_NOINHERIT',\n",
       " 'O_RANDOM',\n",
       " 'O_RDONLY',\n",
       " 'O_RDWR',\n",
       " 'O_SEQUENTIAL',\n",
       " 'O_SHORT_LIVED',\n",
       " 'O_TEMPORARY',\n",
       " 'O_TEXT',\n",
       " 'O_TRUNC',\n",
       " 'O_WRONLY',\n",
       " 'P_DETACH',\n",
       " 'P_NOWAIT',\n",
       " 'P_NOWAITO',\n",
       " 'P_OVERLAY',\n",
       " 'P_WAIT',\n",
       " 'PathLike',\n",
       " 'R_OK',\n",
       " 'SEEK_CUR',\n",
       " 'SEEK_END',\n",
       " 'SEEK_SET',\n",
       " 'TMP_MAX',\n",
       " 'W_OK',\n",
       " 'X_OK',\n",
       " '_AddedDllDirectory',\n",
       " '_Environ',\n",
       " '__all__',\n",
       " '__builtins__',\n",
       " '__cached__',\n",
       " '__doc__',\n",
       " '__file__',\n",
       " '__loader__',\n",
       " '__name__',\n",
       " '__package__',\n",
       " '__spec__',\n",
       " '_check_methods',\n",
       " '_execvpe',\n",
       " '_exists',\n",
       " '_exit',\n",
       " '_fspath',\n",
       " '_get_exports_list',\n",
       " '_putenv',\n",
       " '_unsetenv',\n",
       " '_wrap_close',\n",
       " 'abc',\n",
       " 'abort',\n",
       " 'access',\n",
       " 'add_dll_directory',\n",
       " 'altsep',\n",
       " 'chdir',\n",
       " 'chmod',\n",
       " 'close',\n",
       " 'closerange',\n",
       " 'cpu_count',\n",
       " 'curdir',\n",
       " 'defpath',\n",
       " 'device_encoding',\n",
       " 'devnull',\n",
       " 'dup',\n",
       " 'dup2',\n",
       " 'environ',\n",
       " 'error',\n",
       " 'execl',\n",
       " 'execle',\n",
       " 'execlp',\n",
       " 'execlpe',\n",
       " 'execv',\n",
       " 'execve',\n",
       " 'execvp',\n",
       " 'execvpe',\n",
       " 'extsep',\n",
       " 'fdopen',\n",
       " 'fsdecode',\n",
       " 'fsencode',\n",
       " 'fspath',\n",
       " 'fstat',\n",
       " 'fsync',\n",
       " 'ftruncate',\n",
       " 'get_exec_path',\n",
       " 'get_handle_inheritable',\n",
       " 'get_inheritable',\n",
       " 'get_terminal_size',\n",
       " 'getcwd',\n",
       " 'getcwdb',\n",
       " 'getenv',\n",
       " 'getlogin',\n",
       " 'getpid',\n",
       " 'getppid',\n",
       " 'isatty',\n",
       " 'kill',\n",
       " 'linesep',\n",
       " 'link',\n",
       " 'listdir',\n",
       " 'lseek',\n",
       " 'lstat',\n",
       " 'makedirs',\n",
       " 'mkdir',\n",
       " 'name',\n",
       " 'open',\n",
       " 'pardir',\n",
       " 'path',\n",
       " 'pathsep',\n",
       " 'pipe',\n",
       " 'popen',\n",
       " 'putenv',\n",
       " 'read',\n",
       " 'readlink',\n",
       " 'remove',\n",
       " 'removedirs',\n",
       " 'rename',\n",
       " 'renames',\n",
       " 'replace',\n",
       " 'rmdir',\n",
       " 'scandir',\n",
       " 'sep',\n",
       " 'set_handle_inheritable',\n",
       " 'set_inheritable',\n",
       " 'spawnl',\n",
       " 'spawnle',\n",
       " 'spawnv',\n",
       " 'spawnve',\n",
       " 'st',\n",
       " 'startfile',\n",
       " 'stat',\n",
       " 'stat_result',\n",
       " 'statvfs_result',\n",
       " 'strerror',\n",
       " 'supports_bytes_environ',\n",
       " 'supports_dir_fd',\n",
       " 'supports_effective_ids',\n",
       " 'supports_fd',\n",
       " 'supports_follow_symlinks',\n",
       " 'symlink',\n",
       " 'sys',\n",
       " 'system',\n",
       " 'terminal_size',\n",
       " 'times',\n",
       " 'times_result',\n",
       " 'truncate',\n",
       " 'umask',\n",
       " 'uname_result',\n",
       " 'unlink',\n",
       " 'urandom',\n",
       " 'utime',\n",
       " 'waitpid',\n",
       " 'walk',\n",
       " 'write']"
      ]
     },
     "execution_count": 10,
     "metadata": {},
     "output_type": "execute_result"
    }
   ],
   "source": [
    "dir(os)   # Gives all the commands in the os module"
   ]
  },
  {
   "cell_type": "code",
   "execution_count": 11,
   "id": "57a11d18",
   "metadata": {},
   "outputs": [
    {
     "data": {
      "text/plain": [
       "<module 'ntpath' from 'C:\\\\Users\\\\Dell\\\\anaconda3\\\\lib\\\\ntpath.py'>"
      ]
     },
     "execution_count": 11,
     "metadata": {},
     "output_type": "execute_result"
    }
   ],
   "source": [
    "os.path   # Gives path to the current working directory"
   ]
  },
  {
   "cell_type": "code",
   "execution_count": null,
   "id": "5f6e68af",
   "metadata": {},
   "outputs": [],
   "source": [
    "# In pyhton program we can give values by using command prompt also\n",
    "# sys.argv - returns a list of command line arguments passed to a Pyhton script. The item at index 0 in the list is always the \n",
    "# name of the script. The rest of the arguments are stored at the subsequent index\n",
    "# sys.maxsize - returns the largest integer a variable can take\n",
    "# sys.path - this is an environment variable that is a search path for all Python modules\n",
    "# sys.version - this attribute displays a string containing the version number of the current python interpreter"
   ]
  },
  {
   "cell_type": "code",
   "execution_count": null,
   "id": "8d5997d3",
   "metadata": {},
   "outputs": [],
   "source": [
    "# date time module in Pyhton\n",
    "# Commonly used classes in the datetime module are\n",
    "# date Class\n",
    "# time Class\n",
    "# datetime Class\n",
    "# timedelta Class"
   ]
  },
  {
   "cell_type": "code",
   "execution_count": 5,
   "id": "2d4981f8",
   "metadata": {},
   "outputs": [
    {
     "name": "stdout",
     "output_type": "stream",
     "text": [
      "2021-10-30 21:35:57.067173\n"
     ]
    }
   ],
   "source": [
    "# Python has a module name datetime to work with dates and times.\n",
    "# To get the current date and time\n",
    "# One of the classes defined in the datetime module is datetime class. We then used now() method to create a date time object \n",
    "# containing the current local date and time\n",
    "import datetime\n",
    "currDateTime = datetime.datetime.now()   # datetime is module(first one), datetime is class(second one), now() is the method \n",
    "print(currDateTime)"
   ]
  },
  {
   "cell_type": "code",
   "execution_count": null,
   "id": "1ce6bc84",
   "metadata": {},
   "outputs": [],
   "source": []
  },
  {
   "cell_type": "code",
   "execution_count": null,
   "id": "9e68e00f",
   "metadata": {},
   "outputs": [],
   "source": [
    "# To get the current date : today() method defined in the date class to get a object containing the current local time\n"
   ]
  },
  {
   "cell_type": "code",
   "execution_count": 6,
   "id": "31583dba",
   "metadata": {},
   "outputs": [
    {
     "name": "stdout",
     "output_type": "stream",
     "text": [
      "2021-10-30\n"
     ]
    }
   ],
   "source": [
    "import datetime\n",
    "currDay = datetime.date.today()     # datetime is the module, date is the class, today() is the method \n",
    "print(currDay)   "
   ]
  },
  {
   "cell_type": "code",
   "execution_count": 7,
   "id": "52d2a601",
   "metadata": {},
   "outputs": [
    {
     "name": "stdout",
     "output_type": "stream",
     "text": [
      "2019-04-13\n"
     ]
    }
   ],
   "source": [
    "# To fix a date we use date class in the module datetime \n",
    "import datetime \n",
    "d = datetime.date(2019,4,13) # we have to use the function in this format only (year,month,date)   # In order to fix a date\n",
    "print(d)"
   ]
  },
  {
   "cell_type": "code",
   "execution_count": 9,
   "id": "772cb779",
   "metadata": {},
   "outputs": [
    {
     "name": "stdout",
     "output_type": "stream",
     "text": [
      "Current year is  2021\n",
      "Current month is  10\n",
      "Current day is  30\n"
     ]
    }
   ],
   "source": [
    "# We can access the attributes from today() method, year, month, day are the attributes of today\n",
    "from datetime import date\n",
    "today = date.today()\n",
    "print(\"Current year is \", today.year)  # here year is the attribute\n",
    "print(\"Current month is \",today.month) # here month is the attribute\n",
    "print(\"Current day is \", today.day)    # here day is the attribute\n"
   ]
  },
  {
   "cell_type": "code",
   "execution_count": null,
   "id": "d027dc3a",
   "metadata": {},
   "outputs": [],
   "source": [
    "#  To set time we use the time function\n",
    "# We have to pass hours, minutes, seconds, microseconds in the time function"
   ]
  },
  {
   "cell_type": "code",
   "execution_count": 11,
   "id": "e91e9a0b",
   "metadata": {
    "scrolled": true
   },
   "outputs": [
    {
     "name": "stdout",
     "output_type": "stream",
     "text": [
      "09:11:12.100000\n",
      "9\n",
      "11\n",
      "12\n",
      "100000\n"
     ]
    }
   ],
   "source": [
    "import datetime\n",
    "d = datetime.time(9,11,12,100000)   # here we are setting time by using the function time\n",
    "print(d)\n",
    "# We can also access individual attribute\n",
    "print(d.hour)      # Here hour is the attribute\n",
    "print(d.minute)    # Here minute is the attribute\n",
    "print(d.second)     # Here second is the attribute\n",
    "print(d.microsecond)  # Herer microsecond is the attribute"
   ]
  },
  {
   "cell_type": "code",
   "execution_count": 14,
   "id": "8520a66f",
   "metadata": {},
   "outputs": [
    {
     "name": "stdout",
     "output_type": "stream",
     "text": [
      "1999-02-02 01:02:03.000100\n"
     ]
    }
   ],
   "source": [
    "import datetime \n",
    "d = datetime.datetime(1999,2,2,1,2,3,100)   # Here we have to pass all seven arguments(year, month, day, hour, minute,seconds, microseconds)\n",
    "print(d)"
   ]
  },
  {
   "cell_type": "code",
   "execution_count": null,
   "id": "6930c55b",
   "metadata": {},
   "outputs": [],
   "source": [
    "# We have timedelta function to calculate the difference between two times"
   ]
  },
  {
   "cell_type": "code",
   "execution_count": 15,
   "id": "3f7c800d",
   "metadata": {},
   "outputs": [
    {
     "name": "stdout",
     "output_type": "stream",
     "text": [
      "5:00:00\n"
     ]
    }
   ],
   "source": [
    "import datetime\n",
    "past = datetime.timedelta(days=2021, hours = 1)\n",
    "curr = datetime.timedelta(days=2021, hours= 6)\n",
    "print(curr - past)    # Gives the difference between current time and past time"
   ]
  },
  {
   "cell_type": "code",
   "execution_count": 1,
   "id": "90aff0e0",
   "metadata": {},
   "outputs": [],
   "source": [
    "# Exception Handling in Python\n",
    "# Compile time errors(Syntax error): The errors which come when we dont follow the rules of the interpreter\n",
    "# Logical errors: If we get an output which is not relevent then we call it logical error\n",
    "# Runtime error : The errors occuring during runtime is called as runtime error\n",
    "# print(1/0) #ZeroDivisionError: division by zero"
   ]
  },
  {
   "cell_type": "code",
   "execution_count": null,
   "id": "29219528",
   "metadata": {},
   "outputs": [],
   "source": [
    "# To handle the runtime errors we use exception handling\n",
    "#  Try, Except, Else, Finally\n",
    "# When we know that some error may occur at some code in the program we put that in try block\n",
    "# Exception is handled in the Except block\n",
    "# If there is no exception then else block will be executed\n",
    "# Finally block gets executed irrespective of any error occuring"
   ]
  },
  {
   "cell_type": "code",
   "execution_count": null,
   "id": "6a4a446b",
   "metadata": {},
   "outputs": [],
   "source": [
    "# Types of Runtime errors\n",
    "# Attribute error: Raised if object accessing a member which is not available\n",
    "# FileNotFoundError: Raised if file is not available\n",
    "# Index Error: Raised if index to sequence is out of bound\n",
    "# KeyError: Raised if non existent key is requsted for set or dictionary\n",
    "# NameError: Raised if non existent identifier is used\n",
    "# TypeError: Raised when wrong type of parameter send to the function\n",
    "# ValueError: Raised when parameter has invalid value\n",
    "# ZeroDivisionError : Raised whn you try to divide a number with zero"
   ]
  },
  {
   "cell_type": "code",
   "execution_count": null,
   "id": "2d8ddbba",
   "metadata": {},
   "outputs": [],
   "source": []
  },
  {
   "cell_type": "code",
   "execution_count": null,
   "id": "23085dde",
   "metadata": {},
   "outputs": [],
   "source": []
  },
  {
   "cell_type": "code",
   "execution_count": null,
   "id": "776f90e6",
   "metadata": {},
   "outputs": [],
   "source": []
  },
  {
   "cell_type": "code",
   "execution_count": null,
   "id": "91c4fa23",
   "metadata": {},
   "outputs": [],
   "source": []
  },
  {
   "cell_type": "code",
   "execution_count": null,
   "id": "c1561c3c",
   "metadata": {},
   "outputs": [],
   "source": []
  },
  {
   "cell_type": "code",
   "execution_count": null,
   "id": "061b933e",
   "metadata": {},
   "outputs": [],
   "source": []
  },
  {
   "cell_type": "code",
   "execution_count": null,
   "id": "ea0e5e52",
   "metadata": {},
   "outputs": [],
   "source": []
  },
  {
   "cell_type": "code",
   "execution_count": null,
   "id": "4a4b7515",
   "metadata": {},
   "outputs": [],
   "source": []
  },
  {
   "cell_type": "code",
   "execution_count": null,
   "id": "4f86f3df",
   "metadata": {},
   "outputs": [],
   "source": []
  },
  {
   "cell_type": "code",
   "execution_count": null,
   "id": "5b814fcd",
   "metadata": {},
   "outputs": [],
   "source": []
  },
  {
   "cell_type": "code",
   "execution_count": null,
   "id": "ab4b69b9",
   "metadata": {},
   "outputs": [],
   "source": []
  },
  {
   "cell_type": "code",
   "execution_count": null,
   "id": "c311f444",
   "metadata": {},
   "outputs": [],
   "source": []
  },
  {
   "cell_type": "code",
   "execution_count": null,
   "id": "50c4a3b2",
   "metadata": {},
   "outputs": [],
   "source": []
  },
  {
   "cell_type": "code",
   "execution_count": null,
   "id": "1bd11ec6",
   "metadata": {},
   "outputs": [],
   "source": []
  },
  {
   "cell_type": "code",
   "execution_count": null,
   "id": "e5371329",
   "metadata": {},
   "outputs": [],
   "source": []
  }
 ],
 "metadata": {
  "kernelspec": {
   "display_name": "Python 3",
   "language": "python",
   "name": "python3"
  },
  "language_info": {
   "codemirror_mode": {
    "name": "ipython",
    "version": 3
   },
   "file_extension": ".py",
   "mimetype": "text/x-python",
   "name": "python",
   "nbconvert_exporter": "python",
   "pygments_lexer": "ipython3",
   "version": "3.8.8"
  }
 },
 "nbformat": 4,
 "nbformat_minor": 5
}
